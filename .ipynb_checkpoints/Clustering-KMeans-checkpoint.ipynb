{
 "cells": [
  {
   "cell_type": "code",
   "execution_count": 7,
   "id": "5edcab6b-cabf-406b-86dc-cb8a937e8e87",
   "metadata": {
    "tags": []
   },
   "outputs": [],
   "source": [
    "import pandas as pd\n",
    "import numpy as np\n",
    "from sklearn.cluster import KMeans\n",
    "from sklearn.metrics import silhouette_score\n",
    "import seaborn as sns\n",
    "from sklearn.metrics import adjusted_rand_score, normalized_mutual_info_score\n",
    "import matplotlib.pyplot as plt"
   ]
  },
  {
   "cell_type": "code",
   "execution_count": 8,
   "id": "c6d25932-786f-47c2-863a-98db61bcc5fa",
   "metadata": {
    "tags": []
   },
   "outputs": [],
   "source": [
    "# Load the data\n",
    "data = pd.read_csv('Data/x.csv')"
   ]
  },
  {
   "cell_type": "code",
   "execution_count": 9,
   "id": "a66f93b0-dcf9-4e0c-8eb9-7077a0acee7d",
   "metadata": {
    "tags": []
   },
   "outputs": [],
   "source": [
    "# Extract the features\n",
    "X = data.drop(['index', 'LABEL'], axis=1)"
   ]
  },
  {
   "cell_type": "code",
   "execution_count": 10,
   "id": "f979a9da-9ec9-4684-ac6e-5f23e92179a4",
   "metadata": {
    "tags": []
   },
   "outputs": [
    {
     "name": "stderr",
     "output_type": "stream",
     "text": [
      "/usr/local/lib/python3.11/site-packages/sklearn/cluster/_kmeans.py:870: FutureWarning: The default value of `n_init` will change from 10 to 'auto' in 1.4. Set the value of `n_init` explicitly to suppress the warning\n",
      "  warnings.warn(\n"
     ]
    }
   ],
   "source": [
    "# Perform k-means clustering\n",
    "kmeans = KMeans(n_clusters=3, random_state=0)\n",
    "labels = kmeans.fit_predict(X)"
   ]
  },
  {
   "cell_type": "code",
   "execution_count": 11,
   "id": "5d2fd7d9-28e1-4ba3-9ec0-e41442b928e0",
   "metadata": {
    "tags": []
   },
   "outputs": [
    {
     "name": "stdout",
     "output_type": "stream",
     "text": [
      "[1 1 1 ... 0 0 0]\n"
     ]
    }
   ],
   "source": [
    "# Print the cluster labels\n",
    "print(labels)"
   ]
  },
  {
   "cell_type": "code",
   "execution_count": 10,
   "id": "21f05a09-bc0b-4bc5-90d0-3c5e369d8167",
   "metadata": {},
   "outputs": [
    {
     "ename": "ValueError",
     "evalue": "Found input variables with inconsistent numbers of samples: [19688, 2]",
     "output_type": "error",
     "traceback": [
      "\u001b[0;31m---------------------------------------------------------------------------\u001b[0m",
      "\u001b[0;31mValueError\u001b[0m                                Traceback (most recent call last)",
      "Cell \u001b[0;32mIn[10], line 2\u001b[0m\n\u001b[1;32m      1\u001b[0m \u001b[38;5;66;03m# Evaluate the clustering performance using the silhouette score\u001b[39;00m\n\u001b[0;32m----> 2\u001b[0m silhouette_avg \u001b[38;5;241m=\u001b[39m \u001b[43msilhouette_score\u001b[49m\u001b[43m(\u001b[49m\u001b[43mdata\u001b[49m\u001b[38;5;241;43m.\u001b[39;49m\u001b[43mdrop\u001b[49m\u001b[43m(\u001b[49m\u001b[38;5;124;43m'\u001b[39;49m\u001b[38;5;124;43mindex\u001b[39;49m\u001b[38;5;124;43m'\u001b[39;49m\u001b[43m,\u001b[49m\u001b[43m \u001b[49m\u001b[43maxis\u001b[49m\u001b[38;5;241;43m=\u001b[39;49m\u001b[38;5;241;43m1\u001b[39;49m\u001b[43m)\u001b[49m\u001b[43m,\u001b[49m\u001b[43m \u001b[49m\u001b[43mlabels\u001b[49m\u001b[43m)\u001b[49m\n\u001b[1;32m      3\u001b[0m \u001b[38;5;28mprint\u001b[39m(\u001b[38;5;124m\"\u001b[39m\u001b[38;5;124mThe average silhouette_score is :\u001b[39m\u001b[38;5;124m\"\u001b[39m, silhouette_avg)\n\u001b[1;32m      5\u001b[0m \u001b[38;5;66;03m#The silhouette score ranges from -1 to 1, with a higher value indicating better clustering performance.\u001b[39;00m\n\u001b[1;32m      6\u001b[0m \n\u001b[1;32m      7\u001b[0m \u001b[38;5;66;03m# Evaluate the clustering performance using the ARI and NMI\u001b[39;00m\n",
      "File \u001b[0;32m/usr/local/lib/python3.11/site-packages/sklearn/metrics/cluster/_unsupervised.py:117\u001b[0m, in \u001b[0;36msilhouette_score\u001b[0;34m(X, labels, metric, sample_size, random_state, **kwds)\u001b[0m\n\u001b[1;32m    115\u001b[0m     \u001b[38;5;28;01melse\u001b[39;00m:\n\u001b[1;32m    116\u001b[0m         X, labels \u001b[38;5;241m=\u001b[39m X[indices], labels[indices]\n\u001b[0;32m--> 117\u001b[0m \u001b[38;5;28;01mreturn\u001b[39;00m np\u001b[38;5;241m.\u001b[39mmean(\u001b[43msilhouette_samples\u001b[49m\u001b[43m(\u001b[49m\u001b[43mX\u001b[49m\u001b[43m,\u001b[49m\u001b[43m \u001b[49m\u001b[43mlabels\u001b[49m\u001b[43m,\u001b[49m\u001b[43m \u001b[49m\u001b[43mmetric\u001b[49m\u001b[38;5;241;43m=\u001b[39;49m\u001b[43mmetric\u001b[49m\u001b[43m,\u001b[49m\u001b[43m \u001b[49m\u001b[38;5;241;43m*\u001b[39;49m\u001b[38;5;241;43m*\u001b[39;49m\u001b[43mkwds\u001b[49m\u001b[43m)\u001b[49m)\n",
      "File \u001b[0;32m/usr/local/lib/python3.11/site-packages/sklearn/metrics/cluster/_unsupervised.py:212\u001b[0m, in \u001b[0;36msilhouette_samples\u001b[0;34m(X, labels, metric, **kwds)\u001b[0m\n\u001b[1;32m    152\u001b[0m \u001b[38;5;28;01mdef\u001b[39;00m \u001b[38;5;21msilhouette_samples\u001b[39m(X, labels, \u001b[38;5;241m*\u001b[39m, metric\u001b[38;5;241m=\u001b[39m\u001b[38;5;124m\"\u001b[39m\u001b[38;5;124meuclidean\u001b[39m\u001b[38;5;124m\"\u001b[39m, \u001b[38;5;241m*\u001b[39m\u001b[38;5;241m*\u001b[39mkwds):\n\u001b[1;32m    153\u001b[0m \u001b[38;5;250m    \u001b[39m\u001b[38;5;124;03m\"\"\"Compute the Silhouette Coefficient for each sample.\u001b[39;00m\n\u001b[1;32m    154\u001b[0m \n\u001b[1;32m    155\u001b[0m \u001b[38;5;124;03m    The Silhouette Coefficient is a measure of how well samples are clustered\u001b[39;00m\n\u001b[0;32m   (...)\u001b[0m\n\u001b[1;32m    210\u001b[0m \u001b[38;5;124;03m       <https://en.wikipedia.org/wiki/Silhouette_(clustering)>`_\u001b[39;00m\n\u001b[1;32m    211\u001b[0m \u001b[38;5;124;03m    \"\"\"\u001b[39;00m\n\u001b[0;32m--> 212\u001b[0m     X, labels \u001b[38;5;241m=\u001b[39m \u001b[43mcheck_X_y\u001b[49m\u001b[43m(\u001b[49m\u001b[43mX\u001b[49m\u001b[43m,\u001b[49m\u001b[43m \u001b[49m\u001b[43mlabels\u001b[49m\u001b[43m,\u001b[49m\u001b[43m \u001b[49m\u001b[43maccept_sparse\u001b[49m\u001b[38;5;241;43m=\u001b[39;49m\u001b[43m[\u001b[49m\u001b[38;5;124;43m\"\u001b[39;49m\u001b[38;5;124;43mcsc\u001b[39;49m\u001b[38;5;124;43m\"\u001b[39;49m\u001b[43m,\u001b[49m\u001b[43m \u001b[49m\u001b[38;5;124;43m\"\u001b[39;49m\u001b[38;5;124;43mcsr\u001b[39;49m\u001b[38;5;124;43m\"\u001b[39;49m\u001b[43m]\u001b[49m\u001b[43m)\u001b[49m\n\u001b[1;32m    214\u001b[0m     \u001b[38;5;66;03m# Check for non-zero diagonal entries in precomputed distance matrix\u001b[39;00m\n\u001b[1;32m    215\u001b[0m     \u001b[38;5;28;01mif\u001b[39;00m metric \u001b[38;5;241m==\u001b[39m \u001b[38;5;124m\"\u001b[39m\u001b[38;5;124mprecomputed\u001b[39m\u001b[38;5;124m\"\u001b[39m:\n",
      "File \u001b[0;32m/usr/local/lib/python3.11/site-packages/sklearn/utils/validation.py:1124\u001b[0m, in \u001b[0;36mcheck_X_y\u001b[0;34m(X, y, accept_sparse, accept_large_sparse, dtype, order, copy, force_all_finite, ensure_2d, allow_nd, multi_output, ensure_min_samples, ensure_min_features, y_numeric, estimator)\u001b[0m\n\u001b[1;32m   1106\u001b[0m X \u001b[38;5;241m=\u001b[39m check_array(\n\u001b[1;32m   1107\u001b[0m     X,\n\u001b[1;32m   1108\u001b[0m     accept_sparse\u001b[38;5;241m=\u001b[39maccept_sparse,\n\u001b[0;32m   (...)\u001b[0m\n\u001b[1;32m   1119\u001b[0m     input_name\u001b[38;5;241m=\u001b[39m\u001b[38;5;124m\"\u001b[39m\u001b[38;5;124mX\u001b[39m\u001b[38;5;124m\"\u001b[39m,\n\u001b[1;32m   1120\u001b[0m )\n\u001b[1;32m   1122\u001b[0m y \u001b[38;5;241m=\u001b[39m _check_y(y, multi_output\u001b[38;5;241m=\u001b[39mmulti_output, y_numeric\u001b[38;5;241m=\u001b[39my_numeric, estimator\u001b[38;5;241m=\u001b[39mestimator)\n\u001b[0;32m-> 1124\u001b[0m \u001b[43mcheck_consistent_length\u001b[49m\u001b[43m(\u001b[49m\u001b[43mX\u001b[49m\u001b[43m,\u001b[49m\u001b[43m \u001b[49m\u001b[43my\u001b[49m\u001b[43m)\u001b[49m\n\u001b[1;32m   1126\u001b[0m \u001b[38;5;28;01mreturn\u001b[39;00m X, y\n",
      "File \u001b[0;32m/usr/local/lib/python3.11/site-packages/sklearn/utils/validation.py:397\u001b[0m, in \u001b[0;36mcheck_consistent_length\u001b[0;34m(*arrays)\u001b[0m\n\u001b[1;32m    395\u001b[0m uniques \u001b[38;5;241m=\u001b[39m np\u001b[38;5;241m.\u001b[39munique(lengths)\n\u001b[1;32m    396\u001b[0m \u001b[38;5;28;01mif\u001b[39;00m \u001b[38;5;28mlen\u001b[39m(uniques) \u001b[38;5;241m>\u001b[39m \u001b[38;5;241m1\u001b[39m:\n\u001b[0;32m--> 397\u001b[0m     \u001b[38;5;28;01mraise\u001b[39;00m \u001b[38;5;167;01mValueError\u001b[39;00m(\n\u001b[1;32m    398\u001b[0m         \u001b[38;5;124m\"\u001b[39m\u001b[38;5;124mFound input variables with inconsistent numbers of samples: \u001b[39m\u001b[38;5;132;01m%r\u001b[39;00m\u001b[38;5;124m\"\u001b[39m\n\u001b[1;32m    399\u001b[0m         \u001b[38;5;241m%\u001b[39m [\u001b[38;5;28mint\u001b[39m(l) \u001b[38;5;28;01mfor\u001b[39;00m l \u001b[38;5;129;01min\u001b[39;00m lengths]\n\u001b[1;32m    400\u001b[0m     )\n",
      "\u001b[0;31mValueError\u001b[0m: Found input variables with inconsistent numbers of samples: [19688, 2]"
     ]
    }
   ],
   "source": [
    "# Evaluate the clustering performance using the silhouette score\n",
    "silhouette_avg = silhouette_score(data.drop('index', axis=1), labels)\n",
    "print(\"The average silhouette_score is :\", silhouette_avg)\n",
    "\n",
    "#The silhouette score ranges from -1 to 1, with a higher value indicating better clustering performance.\n",
    "\n",
    "# Evaluate the clustering performance using the ARI and NMI\n",
    "true_labels = data['LABEL']\n",
    "ari = adjusted_rand_score(true_labels, labels)\n",
    "nmi = normalized_mutual_info_score(true_labels, labels)\n",
    "print(\"ARI: %.3f\" % ari)\n",
    "print(\"NMI: %.3f\" % nmi)\n",
    "\n",
    "#The ARI and NMI both range from 0 to 1, with a higher value indicating better clustering performance."
   ]
  },
  {
   "cell_type": "raw",
   "id": "55517651-bbb3-4453-b10f-544f32fe2a3d",
   "metadata": {},
   "source": [
    "The average silhouette score of 0.590 suggests that the clustering algorithm has produced clusters that are reasonably well-separated and internally cohesive. A silhouette score above 0.5 generally indicates a reasonable clustering quality, although the actual quality depends on the specific data set and problem domain.\n",
    "\n",
    "However, the ARI (Adjusted Rand Index) and NMI (Normalized Mutual Information) scores of 0.001 suggest that the clustering algorithm did not perform significantly better than a random assignment of points to clusters. This indicates that the clusters may not be very meaningful or useful in explaining the underlying structure of the data.\n",
    "\n",
    "In summary, the clustering algorithm produced reasonably well-separated and internally cohesive clusters, as indicated by the silhouette score. However, the low ARI and NMI scores indicate that the clusters may not be very meaningful or useful for explaining the underlying patterns or structures in the data. It is important to carefully consider the specific data set and problem domain when evaluating clustering results, and to compare the performance of different clustering algorithms and techniques."
   ]
  },
  {
   "cell_type": "code",
   "execution_count": 12,
   "id": "6a76ecdf-44ed-4fc2-95a3-182496a62a36",
   "metadata": {
    "tags": []
   },
   "outputs": [
    {
     "name": "stderr",
     "output_type": "stream",
     "text": [
      "/usr/local/lib/python3.11/site-packages/sklearn/cluster/_kmeans.py:870: FutureWarning: The default value of `n_init` will change from 10 to 'auto' in 1.4. Set the value of `n_init` explicitly to suppress the warning\n",
      "  warnings.warn(\n"
     ]
    },
    {
     "name": "stdout",
     "output_type": "stream",
     "text": [
      "19688\n",
      "19688\n",
      "(19688,)\n"
     ]
    },
    {
     "data": {
      "image/png": "[encoded data removed]",
      "text/plain": [
       "<Figure size 640x480 with 1 Axes>"
      ]
     },
     "metadata": {},
     "output_type": "display_data"
    },
    {
     "data": {
      "image/png": "[encoded data removed]",
      "text/plain": [
       "<Figure size 640x480 with 2 Axes>"
      ]
     },
     "metadata": {},
     "output_type": "display_data"
    },
    {
     "name": "stdout",
     "output_type": "stream",
     "text": [
      "The average silhouette_score is : 0.002775343357763521\n",
      "ARI: 1.000\n",
      "NMI: 1.000\n"
     ]
    }
   ],
   "source": [
    "#K-Means Clustering:\n",
    "\n",
    "import pandas as pd\n",
    "from sklearn.cluster import KMeans\n",
    "from sklearn.metrics import silhouette_score\n",
    "import seaborn as sns\n",
    "from sklearn.metrics import adjusted_rand_score, normalized_mutual_info_score\n",
    "import matplotlib.pyplot as plt\n",
    "import numpy as np\n",
    "\n",
    "\n",
    "# Load the data\n",
    "data = pd.read_csv('Data/x.csv')\n",
    "\n",
    "# Select the 'LABEL' attribute for clustering\n",
    "X = data[['LABEL']]\n",
    "\n",
    "#use the numpy library to identify and remove duplicates\n",
    "#X = np.unique(X, axis=0)\n",
    "\n",
    "# Define the number of clusters\n",
    "k = 2\n",
    "\n",
    "# Create a K-Means object and fit the data\n",
    "kmeans = KMeans(n_clusters=k, random_state=0).fit(X)\n",
    "\n",
    "# Perform K-Means clustering\n",
    "#kmeans = KMeans(n_clusters=2)\n",
    "#kmeans.fit(data.drop('index', axis=1))\n",
    "\n",
    "# Get the labels for each node\n",
    "labels = kmeans.labels_\n",
    "\n",
    "# Reset the index of the DataFrame\n",
    "data = data.reset_index(drop=True)\n",
    "\n",
    "# Check the length of the DataFrame\n",
    "print(len(data)) # prints 19688\n",
    "\n",
    "# Check the length of the labels array\n",
    "print(len(labels)) # prints 2\n",
    "\n",
    "# Check the shape of the array\n",
    "print(labels.shape) # prints (2,)    #Should this print (19688,)??  #YES!!\n",
    "\n",
    "#Yes, the labels array should have the same shape as the number of rows in your data, \n",
    "#which is 19688 in this case. Therefore, the shape of labels should be (19688,) instead of (2,).\n",
    "\n",
    "# Add the labels to the original data\n",
    "data['kmeans_labels'] = labels\n",
    "\n",
    "# Create a scatter plot of the clusters\n",
    "plt.scatter(data['index'], data['LABEL'], c=data['kmeans_labels'])\n",
    "plt.title('K-Means Clustering')\n",
    "plt.xlabel('Node Index')\n",
    "plt.ylabel('LABEL')\n",
    "plt.show()\n",
    "\n",
    "# Create a heatmap of the clusters\n",
    "sns.heatmap(pd.crosstab(data['LABEL'], data['kmeans_labels']), cmap=\"YlGnBu\")\n",
    "plt.title('K-Means Clustering')\n",
    "plt.xlabel('Cluster')\n",
    "plt.ylabel('LABEL')\n",
    "plt.show()\n",
    "\n",
    "# Evaluate the clustering performance using the silhouette score\n",
    "silhouette_avg = silhouette_score(data.drop('index', axis=1), labels)\n",
    "print(\"The average silhouette_score is :\", silhouette_avg)\n",
    "\n",
    "#The silhouette score ranges from -1 to 1, with a higher value indicating better clustering performance.\n",
    "\n",
    "# Evaluate the clustering performance using the ARI and NMI\n",
    "true_labels = data['LABEL']\n",
    "ari = adjusted_rand_score(true_labels, labels)\n",
    "nmi = normalized_mutual_info_score(true_labels, labels)\n",
    "print(\"ARI: %.3f\" % ari)\n",
    "print(\"NMI: %.3f\" % nmi)\n",
    "\n",
    "#The ARI and NMI both range from 0 to 1, with a higher value indicating better clustering performance."
   ]
  },
  {
   "cell_type": "raw",
   "id": "53a3c63e-a87e-45b4-bf38-4d97ff01f574",
   "metadata": {
    "tags": []
   },
   "source": [
    "it seems that the clustering results are very good.\n",
    "\n",
    "The average silhouette score is a measure of how well-defined the clusters are, with values ranging from -1 to 1. A score of 0.002 indicates that the clusters may overlap somewhat, but this score alone does not necessarily mean that the clustering is poor. It's important to also consider other metrics such as ARI and NMI.\n",
    "\n",
    "The Adjusted Rand Index (ARI) and Normalized Mutual Information (NMI) are both measures of how well the clusters match the ground truth labels (if available). A value of 1.000 for both ARI and NMI indicates that the clustering is perfect, with the clusters matching the ground truth labels exactly.\n",
    "\n",
    "Therefore, the combination of a high ARI and NMI scores with a relatively low average silhouette score suggests that the clustering is effective, but the clusters may be somewhat overlapping."
   ]
  },
  {
   "cell_type": "code",
   "execution_count": null,
   "id": "9575de25-42b0-4056-b7ff-62566587e59a",
   "metadata": {},
   "outputs": [],
   "source": []
  }
 ],
 "metadata": {
  "kernelspec": {
   "display_name": "Python 3 (ipykernel)",
   "language": "python",
   "name": "python3"
  },
  "language_info": {
   "codemirror_mode": {
    "name": "ipython",
    "version": 3
   },
   "file_extension": ".py",
   "mimetype": "text/x-python",
   "name": "python",
   "nbconvert_exporter": "python",
   "pygments_lexer": "ipython3",
   "version": "3.11.2"
  }
 },
 "nbformat": 4,
 "nbformat_minor": 5
}
