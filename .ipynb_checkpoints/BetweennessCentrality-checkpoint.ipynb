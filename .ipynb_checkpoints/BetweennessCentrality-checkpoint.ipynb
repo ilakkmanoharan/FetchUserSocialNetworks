{
 "cells": [
  {
   "cell_type": "code",
   "execution_count": null,
   "id": "37b02d18-3910-4746-bffe-90be67bc04f3",
   "metadata": {
    "tags": []
   },
   "outputs": [],
   "source": [
    "\n",
    "#Betweenness centrality is a network metric that measures the importance of a node or edge in facilitating communication between other nodes in the network. Here are a few measures of betweenness centrality that could be applied to the problem of identifying influential users who have strong connections with users in Wisconsin:\n",
    "\n",
    "#1. Node betweenness centrality: This measure of betweenness centrality is based on the number of shortest paths between all pairs of nodes in the network that pass through a particular node. Nodes with high betweenness centrality are important hubs that are well-connected to other nodes in the network and play a key role in facilitating communication between them. In the context of the problem, users with high node betweenness centrality are likely to be influential users who have many friends in Wisconsin and serve as important bridges between users in Wisconsin and users outside of Wisconsin.\n",
    "#2. Edge betweenness centrality: This measure of betweenness centrality is based on the number of shortest paths between all pairs of nodes in the network that pass through a particular edge. Edges with high betweenness centrality are important bridges that connect different parts of the network and facilitate communication between them. In the context of the problem, edges with high betweenness centrality are likely to represent important friendships between users in Wisconsin and users outside of Wisconsin.\n",
    "#3. Group betweenness centrality: This measure of betweenness centrality is based on the number of shortest paths between all pairs of nodes in the network that pass through a particular group of nodes. Groups with high betweenness centrality are important subnetworks that serve as bridges between different parts of the network. In the context of the problem, groups with high betweenness centrality are likely to represent clusters of users who have strong connections with users in Wisconsin and serve as important bridges between users in Wisconsin and users outside of Wisconsin.\n",
    "#Overall, each of these measures of betweenness centrality could provide valuable insights into the structure of the network of users who have friends in Wisconsin and help to identify influential users who play a key role in connecting different parts of the network.\n"
   ]
  },
  {
   "cell_type": "code",
   "execution_count": null,
   "id": "bb8db70f-fd93-44d2-a648-e57db1d9ed05",
   "metadata": {
    "tags": []
   },
   "outputs": [],
   "source": [
    "import pandas as pd\n",
    "import networkx as nx"
   ]
  },
  {
   "cell_type": "code",
   "execution_count": null,
   "id": "4652893b-a1aa-46af-9d21-d6df79222176",
   "metadata": {
    "tags": []
   },
   "outputs": [],
   "source": [
    "# Load the node and edge data from x.csv and edge_index.csv\n",
    "node_df = pd.read_csv('Data/x.csv')\n",
    "edge_df = pd.read_csv('Data/edge_index.csv')"
   ]
  },
  {
   "cell_type": "code",
   "execution_count": null,
   "id": "555bc08f-cc32-4869-a5b1-4486756fec7d",
   "metadata": {
    "tags": []
   },
   "outputs": [],
   "source": [
    "# Create an undirected graph from the edge data\n",
    "G = nx.from_pandas_edgelist(edge_df, source='index_x', target='index_y', create_using=nx.Graph())"
   ]
  },
  {
   "cell_type": "code",
   "execution_count": null,
   "id": "75338e29-c92f-4031-9992-5eaaadf03573",
   "metadata": {
    "tags": []
   },
   "outputs": [],
   "source": [
    "# Compute node betweenness centrality\n",
    "node_betweenness = nx.betweenness_centrality(G)"
   ]
  },
  {
   "cell_type": "code",
   "execution_count": null,
   "id": "58540746-e52f-4b92-be2b-d9a3c8fd9903",
   "metadata": {
    "tags": []
   },
   "outputs": [],
   "source": [
    "# Compute edge betweenness centrality\n",
    "edge_betweenness = nx.edge_betweenness_centrality(G)"
   ]
  },
  {
   "cell_type": "code",
   "execution_count": null,
   "id": "63b31b67-ae78-4b96-acdb-1cee70aa882a",
   "metadata": {
    "tags": []
   },
   "outputs": [],
   "source": [
    "# Compute group betweenness centrality\n",
    "group_betweenness = nx.group_betweenness_centrality(G, sources=node_df[node_df['LABEL'] == 1]['index'], targets=node_df[node_df['LABEL'] == 0]['index'])"
   ]
  },
  {
   "cell_type": "code",
   "execution_count": null,
   "id": "6d48753c-cab9-4c9a-bea4-32189cdebca5",
   "metadata": {
    "tags": []
   },
   "outputs": [],
   "source": [
    "# Print the results\n",
    "print(\"Node betweenness centrality:\")\n",
    "for node, score in sorted(node_betweenness.items(), key=lambda x: x[1], reverse=True):\n",
    "    print(f\"{node}: {score:.4f}\")\n",
    "    \n",
    "print(\"\\nEdge betweenness centrality:\")\n",
    "for edge, score in sorted(edge_betweenness.items(), key=lambda x: x[1], reverse=True):\n",
    "    print(f\"{edge}: {score:.4f}\")\n",
    "    \n",
    "print(\"\\nGroup betweenness centrality:\")\n",
    "for group, score in sorted(group_betweenness.items(), key=lambda x: x[1], reverse=True):\n",
    "    print(f\"{group}: {score:.4f}\")"
   ]
  }
 ],
 "metadata": {
  "kernelspec": {
   "display_name": "Python 3 (ipykernel)",
   "language": "python",
   "name": "python3"
  },
  "language_info": {
   "codemirror_mode": {
    "name": "ipython",
    "version": 3
   },
   "file_extension": ".py",
   "mimetype": "text/x-python",
   "name": "python",
   "nbconvert_exporter": "python",
   "pygments_lexer": "ipython3",
   "version": "3.11.2"
  }
 },
 "nbformat": 4,
 "nbformat_minor": 5
}
