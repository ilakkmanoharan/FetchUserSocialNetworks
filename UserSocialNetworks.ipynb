{
 "cells": [
  {
   "cell_type": "code",
   "execution_count": 2,
   "id": "ccd14d17-1bcd-4793-8ee2-1e4e1ef06f78",
   "metadata": {
    "tags": []
   },
   "outputs": [],
   "source": [
    "import pandas as pd\n"
   ]
  },
  {
   "cell_type": "code",
   "execution_count": 3,
   "id": "79e8fa8c-3ff3-4134-9d4c-a9c0e89749e7",
   "metadata": {
    "tags": []
   },
   "outputs": [],
   "source": [
    "# read the edge data\n",
    "edge_df = pd.read_csv('Data/edge_index.csv')\n"
   ]
  },
  {
   "cell_type": "code",
   "execution_count": 4,
   "id": "d23563e4-125c-4f23-84c4-bbe35dd9be87",
   "metadata": {
    "tags": []
   },
   "outputs": [
    {
     "name": "stdout",
     "output_type": "stream",
     "text": [
      "1        910\n",
      "180      210\n",
      "1498     183\n",
      "545      169\n",
      "1617     158\n",
      "        ... \n",
      "5381       1\n",
      "5464       1\n",
      "7299       1\n",
      "5637       1\n",
      "11697      1\n",
      "Length: 19688, dtype: int64\n"
     ]
    }
   ],
   "source": [
    "# count the number of friends each user has\n",
    "friend_count = pd.concat([edge_df['index_x'], edge_df['index_y']]).value_counts()\n",
    "\n",
    "print(friend_count)"
   ]
  },
  {
   "cell_type": "code",
   "execution_count": 55,
   "id": "c0e5b807-e478-4d67-98e5-fede83df5a54",
   "metadata": {
    "tags": []
   },
   "outputs": [],
   "source": [
    "# 1. Read the data from x.csv and edge_index.csv using pandas.\n",
    "\n",
    "x_df = pd.read_csv('Data/x.csv')\n",
    "edge_df = pd.read_csv('Data/edge_index.csv')\n"
   ]
  },
  {
   "cell_type": "code",
   "execution_count": 37,
   "id": "364b130c-c61e-4e3b-b39f-4576431b1f06",
   "metadata": {
    "tags": []
   },
   "outputs": [],
   "source": [
    "#drop the duplicates\n",
    "\n",
    "#x_df.drop_duplicates(inplace=True)\n",
    "#edge_df.drop_duplicates(inplace=True)\n"
   ]
  },
  {
   "cell_type": "code",
   "execution_count": 56,
   "id": "46174659-394f-42cd-9397-e4ef96621a21",
   "metadata": {
    "tags": []
   },
   "outputs": [],
   "source": [
    "# 2. Merge the two data frames to get the labels for each user.\n",
    "\n",
    "\n",
    "#merged_df = pd.merge(edge_df, x_df, left_on='index_x', right_on='index')\n",
    "#merged_df = pd.merge(merged_df, x_df, left_on='index_y', right_on='index', suffixes=('_x', '_y'))\n",
    "\n",
    "\n",
    "\n",
    "merged_df = pd.merge(edge_df, x_df, left_on='index_x', right_on='index', suffixes=('_left', '_right'))\n",
    "merged_df = pd.merge(merged_df, x_df, left_on='index_y', right_on='index', suffixes=('_left', '_right'))\n",
    "\n",
    "#merged_df.drop_duplicates(inplace=True)"
   ]
  },
  {
   "cell_type": "code",
   "execution_count": 57,
   "id": "3a1c470f-b392-4aa8-9b8a-f1994a7e8a24",
   "metadata": {
    "tags": []
   },
   "outputs": [],
   "source": [
    "#3. Create a new column indicating whether each user is from Wisconsin or not.\n",
    "\n",
    "merged_df['from_wisconsin'] = (merged_df['LABEL_left'] == 1) | (merged_df['LABEL_right'] == 1)\n"
   ]
  },
  {
   "cell_type": "code",
   "execution_count": 41,
   "id": "33e36319-71de-48f0-be67-b75f52798bb9",
   "metadata": {
    "tags": []
   },
   "outputs": [],
   "source": [
    "#merged_df.drop_duplicates(inplace=True)"
   ]
  },
  {
   "cell_type": "code",
   "execution_count": 68,
   "id": "1b5041f5-43f2-4428-9579-ce0f7e014a76",
   "metadata": {},
   "outputs": [],
   "source": [
    "#4. Group the data by the index column and aggregate the from_wisconsin column by taking the maximum value.\n",
    "\n",
    "#grouped_df = merged_df.groupby('index_x')['from_wisconsin'].max()\n",
    "\n",
    "grouped_df = merged_df.groupby(['index_x'])['from_wisconsin'].max()\n"
   ]
  },
  {
   "cell_type": "code",
   "execution_count": 69,
   "id": "95bbd3cd-b2a5-482a-8e56-deb0e4a1c6d1",
   "metadata": {
    "tags": []
   },
   "outputs": [
    {
     "name": "stdout",
     "output_type": "stream",
     "text": [
      "index_x\n",
      "2     True\n",
      "3     True\n",
      "10    True\n",
      "11    True\n",
      "13    True\n",
      "Name: from_wisconsin, dtype: bool\n"
     ]
    }
   ],
   "source": [
    "#print(merged_df.head()) \n",
    "print(grouped_df.head()) "
   ]
  },
  {
   "cell_type": "code",
   "execution_count": 24,
   "id": "b2b00e98-2d15-42b1-8c51-7bf1fcb8a749",
   "metadata": {
    "tags": []
   },
   "outputs": [
    {
     "name": "stdout",
     "output_type": "stream",
     "text": [
      "Index(['Unnamed: 0_left', 'index_x', 'index_y', 'Unnamed: 0_right',\n",
      "       'index_left', 'LABEL_left', 'Unnamed: 0', 'index_right', 'LABEL_right',\n",
      "       'from_wisconsin'],\n",
      "      dtype='object')\n"
     ]
    }
   ],
   "source": [
    "print(merged_df.columns)"
   ]
  },
  {
   "cell_type": "code",
   "execution_count": 70,
   "id": "802cc95d-ac11-411d-96e9-663df0c85655",
   "metadata": {
    "tags": []
   },
   "outputs": [
    {
     "name": "stdout",
     "output_type": "stream",
     "text": [
      "0    986\n",
      "dtype: int64\n"
     ]
    }
   ],
   "source": [
    "from sklearn.cluster import AgglomerativeClustering\n",
    "\n",
    "#grouped_df.drop_duplicates(inplace=True)\n",
    "\n",
    "# convert the data to a matrix\n",
    "X = grouped_df.to_numpy().reshape(-1, 1)\n",
    "\n",
    "# Create an instance of AgglomerativeClustering\n",
    "agg = AgglomerativeClustering(n_clusters=1)\n",
    "\n",
    "# Fit the data and predict the labels\n",
    "labels = agg.fit_predict(X)\n",
    "\n",
    "print(pd.Series(labels).value_counts())\n"
   ]
  },
  {
   "cell_type": "code",
   "execution_count": 71,
   "id": "1edce44f-376b-46dd-a858-767011492e61",
   "metadata": {
    "tags": []
   },
   "outputs": [
    {
     "name": "stdout",
     "output_type": "stream",
     "text": [
      "0    986\n",
      "dtype: int64\n"
     ]
    },
    {
     "name": "stderr",
     "output_type": "stream",
     "text": [
      "/usr/local/lib/python3.11/site-packages/sklearn/cluster/_kmeans.py:870: FutureWarning: The default value of `n_init` will change from 10 to 'auto' in 1.4. Set the value of `n_init` explicitly to suppress the warning\n",
      "  warnings.warn(\n"
     ]
    }
   ],
   "source": [
    "#5. Train a machine learning model to predict the number of natural communities of users in Wisconsin. \n",
    "#You can use various algorithms such as KMeans, DBSCAN, or hierarchical clustering. Here is an example using KMeans.\n",
    "\n",
    "\n",
    "from sklearn.cluster import KMeans\n",
    "\n",
    "#grouped_df.drop_duplicates(inplace=True)\n",
    "\n",
    "# convert the data to a matrix\n",
    "X = grouped_df.to_numpy().reshape(-1, 1)\n",
    "\n",
    "# train the model\n",
    "kmeans = KMeans(n_clusters=1, random_state=0).fit(X)\n",
    "\n",
    "# get the labels\n",
    "labels = kmeans.labels_\n",
    "\n",
    "# print the number of users in each cluster\n",
    "print(pd.Series(labels).value_counts())\n",
    "\n"
   ]
  },
  {
   "cell_type": "code",
   "execution_count": 72,
   "id": "0492a563-85a8-430f-b7c6-c48c5222a3b5",
   "metadata": {
    "tags": []
   },
   "outputs": [
    {
     "name": "stdout",
     "output_type": "stream",
     "text": [
      "0    986\n",
      "dtype: int64\n"
     ]
    }
   ],
   "source": [
    "from sklearn.cluster import KMeans\n",
    "\n",
    "#grouped_df.drop_duplicates(inplace=True)\n",
    "\n",
    "# convert the data to a matrix\n",
    "X = grouped_df.to_numpy().reshape(-1, 1)\n",
    "\n",
    "# train the model\n",
    "kmeans = KMeans(n_clusters=1, n_init=10).fit(X)\n",
    "\n",
    "# get the labels\n",
    "labels = kmeans.labels_\n",
    "\n",
    "# print the number of users in each cluster\n",
    "print(pd.Series(labels).value_counts())\n"
   ]
  },
  {
   "cell_type": "code",
   "execution_count": 73,
   "id": "b7707390-376c-47fb-8700-225428bac413",
   "metadata": {
    "tags": []
   },
   "outputs": [
    {
     "name": "stdout",
     "output_type": "stream",
     "text": [
      "0    986\n",
      "dtype: int64\n"
     ]
    }
   ],
   "source": [
    "from sklearn.cluster import KMeans\n",
    "\n",
    "#grouped_df.drop_duplicates(inplace=True)\n",
    "\n",
    "# convert the data to a matrix\n",
    "X = grouped_df.to_numpy().reshape(-1, 1)\n",
    "\n",
    "# train the model\n",
    "kmeans = KMeans(n_clusters=1, n_init=\"auto\").fit(X)\n",
    "\n",
    "# get the labels\n",
    "labels = kmeans.labels_\n",
    "\n",
    "# print the number of users in each cluster\n",
    "print(pd.Series(labels).value_counts())\n"
   ]
  },
  {
   "cell_type": "code",
   "execution_count": 74,
   "id": "b8ffec3d-6a55-456f-8747-21e3bdb9df12",
   "metadata": {
    "tags": []
   },
   "outputs": [
    {
     "name": "stdout",
     "output_type": "stream",
     "text": [
      "0    986\n",
      "dtype: int64\n"
     ]
    }
   ],
   "source": [
    "from sklearn.cluster import AgglomerativeClustering\n",
    "\n",
    "# Create an instance of AgglomerativeClustering\n",
    "agg = AgglomerativeClustering(n_clusters=1, linkage='ward')\n",
    "\n",
    "# Fit the data and predict the labels\n",
    "labels = agg.fit_predict(X)\n",
    "\n",
    "# print the number of users in each cluster\n",
    "print(pd.Series(labels).value_counts())\n"
   ]
  },
  {
   "cell_type": "code",
   "execution_count": null,
   "id": "d6e30162-cc14-4df2-b34d-76b2c258aad8",
   "metadata": {},
   "outputs": [],
   "source": []
  }
 ],
 "metadata": {
  "kernelspec": {
   "display_name": "Python 3 (ipykernel)",
   "language": "python",
   "name": "python3"
  },
  "language_info": {
   "codemirror_mode": {
    "name": "ipython",
    "version": 3
   },
   "file_extension": ".py",
   "mimetype": "text/x-python",
   "name": "python",
   "nbconvert_exporter": "python",
   "pygments_lexer": "ipython3",
   "version": "3.11.2"
  }
 },
 "nbformat": 4,
 "nbformat_minor": 5
}
